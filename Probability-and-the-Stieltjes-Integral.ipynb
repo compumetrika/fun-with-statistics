{
 "cells": [
  {
   "cell_type": "markdown",
   "metadata": {},
   "source": [
    "# Probability and the Stieltjes Integral\n",
    "\n",
    "If you've worked through search and matching labor macro models, you should have encountered this notation for expected value: \n",
    "\n",
    "$$\n",
    "E[h(x)] = \\int_{0}^{B} h(x) d F(x) \n",
    "$$\n",
    "\n",
    "where F(x) is a CDF over some random variable $x$. This has some nice properties which make solving search/matching models a little more conveneient to solve. Of course you've likely encountered this notation in any number of other places. Labor search was just the first place I remember encountering it. \n",
    "\n",
    "I've use this form before without giving it much thought. Recently however I decided to poke around a bit more and learn some background. As often occurs, Q&As on StackExchange pointed me in the right direction quickly:\n",
    "\n",
    "- \"[Definition of mean as an integral over the CDF](https://math.stackexchange.com/questions/22887/definition-of-mean-as-an-integral-over-the-cdf)\", and\n",
    "- \"[What does it mean to integrate with respect to the distribution function?](https://math.stackexchange.com/questions/380785/what-does-it-mean-to-integrate-with-respect-to-the-distribution-function)\"\n",
    "\n",
    "both pointed me to the [Riemann-Stieltjes_integral](https://en.wikipedia.org/wiki/Riemann%E2%80%93Stieltjes_integral). The top answer to the first SE question above was particularly useful. \n",
    "\n",
    "There's a bit of interesting history and background here. As with many things, I'm going to give it a quick little programming effort to get a feel for the ideas. "
   ]
  },
  {
   "cell_type": "code",
   "execution_count": null,
   "metadata": {
    "collapsed": true
   },
   "outputs": [],
   "source": []
  }
 ],
 "metadata": {
  "kernelspec": {
   "display_name": "Python 2",
   "language": "python",
   "name": "python2"
  },
  "language_info": {
   "codemirror_mode": {
    "name": "ipython",
    "version": 2
   },
   "file_extension": ".py",
   "mimetype": "text/x-python",
   "name": "python",
   "nbconvert_exporter": "python",
   "pygments_lexer": "ipython2",
   "version": "2.7.13"
  }
 },
 "nbformat": 4,
 "nbformat_minor": 2
}
